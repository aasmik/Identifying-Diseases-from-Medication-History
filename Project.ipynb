{
  "nbformat": 4,
  "nbformat_minor": 0,
  "metadata": {
    "colab": {
      "provenance": [],
      "authorship_tag": "ABX9TyPC/xsTquyRY0oSSSkevhus",
      "include_colab_link": true
    },
    "kernelspec": {
      "name": "python3",
      "display_name": "Python 3"
    },
    "language_info": {
      "name": "python"
    }
  },
  "cells": [
    {
      "cell_type": "markdown",
      "metadata": {
        "id": "view-in-github",
        "colab_type": "text"
      },
      "source": [
        "<a href=\"https://colab.research.google.com/github/aasmik/Identifying-Diseases-from-Medication-History/blob/main/Project.ipynb\" target=\"_parent\"><img src=\"https://colab.research.google.com/assets/colab-badge.svg\" alt=\"Open In Colab\"/></a>"
      ]
    },
    {
      "cell_type": "code",
      "execution_count": 11,
      "metadata": {
        "colab": {
          "base_uri": "https://localhost:8080/"
        },
        "id": "jUx6dk_GbctH",
        "outputId": "69199887-c989-47b6-904c-66fd9a320d8b"
      },
      "outputs": [
        {
          "output_type": "stream",
          "name": "stdout",
          "text": [
            "Initial Dataset Info:\n",
            "<class 'pandas.core.frame.DataFrame'>\n",
            "RangeIndex: 100 entries, 0 to 99\n",
            "Data columns (total 6 columns):\n",
            " #   Column        Non-Null Count  Dtype \n",
            "---  ------        --------------  ----- \n",
            " 0   Name          100 non-null    object\n",
            " 1   Category      100 non-null    object\n",
            " 2   Dosage Form   100 non-null    object\n",
            " 3   Strength      100 non-null    object\n",
            " 4   Manufacturer  100 non-null    object\n",
            " 5   Indication    100 non-null    object\n",
            "dtypes: object(6)\n",
            "memory usage: 4.8+ KB\n",
            "None\n",
            "\n",
            "First few rows:\n",
            "           Name      Category Dosage Form Strength           Manufacturer  \\\n",
            "0      Metophen    Antifungal      Tablet   346 mg      Merck & Co., Inc.   \n",
            "1     Cefcillin  Antidiabetic    Ointment   517 mg       Roche Holding AG   \n",
            "2    Ibuprophen    Antifungal    Ointment   967 mg            AbbVie Inc.   \n",
            "3  Ibupronazole    Antiseptic       Cream   747 mg  Eli Lilly and Company   \n",
            "4   Amoxicillin     Analgesic       Cream   594 mg             Amgen Inc.   \n",
            "\n",
            "   Indication  \n",
            "0    Diabetes  \n",
            "1        Pain  \n",
            "2  Depression  \n",
            "3        Pain  \n",
            "4      Fungus  \n",
            "\n",
            "MEDICINE_DATASET as 'MEDICINE_DATASET.csv'\n"
          ]
        }
      ],
      "source": [
        "#DATA COLLECTION AND PREPROCESSING\n",
        "import pandas as pd\n",
        "import numpy as np\n",
        "#LOAD THE EXCEL FILE INTO DATA FRAME\n",
        "file_path = 'MEDICAL_DATASET.xlsx'\n",
        "df = pd.read_excel(file_path)\n",
        "#DISPLAY DATASET STRUCTURE INCLUDING NO OF NON NULL VALUES AND DATA TYPES FOR EACH COL\n",
        "print(\"Initial Dataset Info:\")\n",
        "print(df.info())\n",
        "#DISPLAYS 1ST 5 ROWS TO GET THE PREVIEW OF THE DATA\n",
        "print(\"\\nFirst few rows:\")\n",
        "print(df.head())\n",
        "#REMOVES ANY ROWS WITH MISSING VALUES USING dropna()\n",
        "df_cleaned = df.dropna()\n",
        "#TO REMOVE DUPLICATE ROWS TO AVOID DATA REDUNDANCY\n",
        "df_cleaned = df_cleaned.drop_duplicates()\n",
        "#STANDARDIZES COL NAMES BY STRIPPING THE EXTRA SPACES,CONVERTING TO LOWERCASE,REPLACING SPACES WITH UNDERSCORE\n",
        "df_cleaned.columns = df_cleaned.columns.str.strip().str.lower().str.replace(' ', '_')\n",
        "#SAVES THE CLEANED DATASET AS A CSV FILE WITHOUT ROW INDICES\n",
        "df_cleaned.to_csv('MEDICINE_DATASET.csv', index=False)\n",
        "# SAVE THE DATASET\n",
        "print(\"\\nMEDICINE_DATASET as 'MEDICINE_DATASET.csv'\")\n",
        "\n",
        "\n",
        "\n"
      ]
    },
    {
      "cell_type": "code",
      "source": [
        "#MODEL DEVELOPMENT\n",
        "#IMPORTS REQUIRED MODULES FROM SCIKIT-LEARN\n",
        "#TRAIN_TEST_SPLIT: SPLITS DATA INTO TRAINING AND TESTING SETS\n",
        "#LABELENCODER: CONVERTS CATEGORICAL TEXT INTO NUMBERS\n",
        "#RANDOMFORESTCLASSIFIER, DECISIONTREECLASSIFIER, SVC: MACHINE LEARNING MODELS\n",
        "#CLASSIFICATION_REPORT, ACCURACY_SCORE: TO EVALUATE MODEL PERFORMANCE\n",
        "from sklearn.model_selection import train_test_split\n",
        "from sklearn.preprocessing import LabelEncoder\n",
        "from sklearn.ensemble import RandomForestClassifier\n",
        "from imblearn.over_sampling import SMOTE\n",
        "from sklearn.metrics import classification_report, accuracy_score\n",
        "#READ THE CLEANED DATASET\n",
        "df = pd.read_csv('MEDICINE_DATASET.csv')\n",
        "#ENCODES ALL CATEGORICAL(TEXT) COL INTO NUMERIC FORMAT\n",
        "label_encoders = {}\n",
        "for column in df.columns:\n",
        "    if df[column].dtype == 'object':\n",
        "        le = LabelEncoder()\n",
        "        df[column] = le.fit_transform(df[column])\n",
        "        label_encoders[column] = le\n",
        "#SPLIT THE DATA INTO X AND Y\n",
        "X = df.drop('indication', axis=1)\n",
        "y = df['indication']\n",
        "#  APPLY SMOTE TO BALANCE THE DATA\n",
        "smote = SMOTE(random_state=42)\n",
        "X_resampled, y_resampled = smote.fit_resample(X, y)\n",
        "# CONFIRM SMOTE WORKED PROPERLY\n",
        "print(\"AFTER RESAMPLING (CLASS COUNTS):\")\n",
        "print(pd.Series(y_resampled).value_counts())\n",
        "# SPLIT DATA INTO TRAINING AND TESTING SETS\n",
        "X_train, X_test, y_train, y_test = train_test_split(X_resampled, y_resampled, test_size=0.2, random_state=42)\n",
        "# TRAIN A RANDOM FOREST MODEL\n",
        "rf_model = RandomForestClassifier(n_estimators=100, random_state=42)\n",
        "rf_model.fit(X_train, y_train)\n",
        "rf_preds = rf_model.predict(X_test)\n",
        "# EVALUATE RANDOM FOREST\n",
        "print(\"\\nRANDOM FOREST REPORT:\\n\")\n",
        "print(classification_report(y_test, rf_preds, zero_division=0))\n",
        "print(\"ACCURACY SCORE:\", accuracy_score(y_test, rf_preds))\n",
        "\n",
        "\n",
        "\n",
        "\n",
        "\n"
      ],
      "metadata": {
        "colab": {
          "base_uri": "https://localhost:8080/"
        },
        "id": "1H-hIGKyjXMh",
        "outputId": "814afea5-17e5-40fb-9974-1b636c0b8fa1"
      },
      "execution_count": 31,
      "outputs": [
        {
          "output_type": "stream",
          "name": "stdout",
          "text": [
            "AFTER RESAMPLING (CLASS COUNTS):\n",
            "indication\n",
            "1    21\n",
            "5    21\n",
            "0    21\n",
            "3    21\n",
            "6    21\n",
            "7    21\n",
            "2    21\n",
            "4    21\n",
            "Name: count, dtype: int64\n",
            "\n",
            "RANDOM FOREST REPORT:\n",
            "\n",
            "              precision    recall  f1-score   support\n",
            "\n",
            "           0       0.57      0.67      0.62         6\n",
            "           1       1.00      0.40      0.57         5\n",
            "           2       0.67      1.00      0.80         2\n",
            "           3       0.75      0.75      0.75         4\n",
            "           4       0.57      1.00      0.73         4\n",
            "           5       0.00      0.00      0.00         6\n",
            "           6       0.29      1.00      0.44         2\n",
            "           7       1.00      0.60      0.75         5\n",
            "\n",
            "    accuracy                           0.59        34\n",
            "   macro avg       0.61      0.68      0.58        34\n",
            "weighted avg       0.61      0.59      0.55        34\n",
            "\n",
            "ACCURACY SCORE: 0.5882352941176471\n"
          ]
        }
      ]
    }
  ]
}