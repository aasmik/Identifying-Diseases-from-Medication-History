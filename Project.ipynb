{
  "nbformat": 4,
  "nbformat_minor": 0,
  "metadata": {
    "colab": {
      "provenance": [],
      "authorship_tag": "ABX9TyOUzeM1Cp5o6sIcK/p/EnA5",
      "include_colab_link": true
    },
    "kernelspec": {
      "name": "python3",
      "display_name": "Python 3"
    },
    "language_info": {
      "name": "python"
    }
  },
  "cells": [
    {
      "cell_type": "markdown",
      "metadata": {
        "id": "view-in-github",
        "colab_type": "text"
      },
      "source": [
        "<a href=\"https://colab.research.google.com/github/aasmik/Identifying-Diseases-from-Medication-History/blob/main/Project.ipynb\" target=\"_parent\"><img src=\"https://colab.research.google.com/assets/colab-badge.svg\" alt=\"Open In Colab\"/></a>"
      ]
    },
    {
      "cell_type": "code",
      "execution_count": 11,
      "metadata": {
        "colab": {
          "base_uri": "https://localhost:8080/"
        },
        "id": "jUx6dk_GbctH",
        "outputId": "69199887-c989-47b6-904c-66fd9a320d8b"
      },
      "outputs": [
        {
          "output_type": "stream",
          "name": "stdout",
          "text": [
            "Initial Dataset Info:\n",
            "<class 'pandas.core.frame.DataFrame'>\n",
            "RangeIndex: 100 entries, 0 to 99\n",
            "Data columns (total 6 columns):\n",
            " #   Column        Non-Null Count  Dtype \n",
            "---  ------        --------------  ----- \n",
            " 0   Name          100 non-null    object\n",
            " 1   Category      100 non-null    object\n",
            " 2   Dosage Form   100 non-null    object\n",
            " 3   Strength      100 non-null    object\n",
            " 4   Manufacturer  100 non-null    object\n",
            " 5   Indication    100 non-null    object\n",
            "dtypes: object(6)\n",
            "memory usage: 4.8+ KB\n",
            "None\n",
            "\n",
            "First few rows:\n",
            "           Name      Category Dosage Form Strength           Manufacturer  \\\n",
            "0      Metophen    Antifungal      Tablet   346 mg      Merck & Co., Inc.   \n",
            "1     Cefcillin  Antidiabetic    Ointment   517 mg       Roche Holding AG   \n",
            "2    Ibuprophen    Antifungal    Ointment   967 mg            AbbVie Inc.   \n",
            "3  Ibupronazole    Antiseptic       Cream   747 mg  Eli Lilly and Company   \n",
            "4   Amoxicillin     Analgesic       Cream   594 mg             Amgen Inc.   \n",
            "\n",
            "   Indication  \n",
            "0    Diabetes  \n",
            "1        Pain  \n",
            "2  Depression  \n",
            "3        Pain  \n",
            "4      Fungus  \n",
            "\n",
            "MEDICINE_DATASET as 'MEDICINE_DATASET.csv'\n"
          ]
        }
      ],
      "source": [
        "#DATA COLLECTION AND PREPROCESSING\n",
        "import pandas as pd\n",
        "import numpy as np\n",
        "#LOAD THE EXCEL FILE INTO DATA FRAME\n",
        "file_path = 'MEDICAL_DATASET.xlsx'\n",
        "df = pd.read_excel(file_path)\n",
        "#DISPLAY DATASET STRUCTURE INCLUDING NO OF NON NULL VALUES AND DATA TYPES FOR EACH COL\n",
        "print(\"Initial Dataset Info:\")\n",
        "print(df.info())\n",
        "#DISPLAYS 1ST 5 ROWS TO GET THE PREVIEW OF THE DATA\n",
        "print(\"\\nFirst few rows:\")\n",
        "print(df.head())\n",
        "#REMOVES ANY ROWS WITH MISSING VALUES USING dropna()\n",
        "df_cleaned = df.dropna()\n",
        "#TO REMOVE DUPLICATE ROWS TO AVOID DATA REDUNDANCY\n",
        "df_cleaned = df_cleaned.drop_duplicates()\n",
        "#STANDARDIZES COL NAMES BY STRIPPING THE EXTRA SPACES,CONVERTING TO LOWERCASE,REPLACING SPACES WITH UNDERSCORE\n",
        "df_cleaned.columns = df_cleaned.columns.str.strip().str.lower().str.replace(' ', '_')\n",
        "#SAVES THE CLEANED DATASET AS A CSV FILE WITHOUT ROW INDICES\n",
        "df_cleaned.to_csv('MEDICINE_DATASET.csv', index=False)\n",
        "# SAVE THE DATASET\n",
        "print(\"\\nMEDICINE_DATASET as 'MEDICINE_DATASET.csv'\")\n",
        "\n",
        "\n",
        "\n"
      ]
    },
    {
      "cell_type": "code",
      "source": [
        "#MODEL DEVELOPMENT\n",
        "#IMPORTS REQUIRED MODULES FROM SCIKIT-LEARN\n",
        "#TRAIN_TEST_SPLIT: SPLITS DATA INTO TRAINING AND TESTING SETS\n",
        "#LABELENCODER: CONVERTS CATEGORICAL TEXT INTO NUMBERS\n",
        "#RANDOMFORESTCLASSIFIER, DECISIONTREECLASSIFIER, SVC: MACHINE LEARNING MODELS\n",
        "#CLASSIFICATION_REPORT, ACCURACY_SCORE: TO EVALUATE MODEL PERFORMANCE\n",
        "from sklearn.model_selection import train_test_split\n",
        "from sklearn.preprocessing import LabelEncoder\n",
        "from sklearn.ensemble import RandomForestClassifier\n",
        "from sklearn.tree import DecisionTreeClassifier\n",
        "from sklearn.svm import SVC\n",
        "from sklearn.metrics import classification_report, accuracy_score\n",
        "#READ THE CLEANED DATASET\n",
        "df = pd.read_csv('MEDICINE_DATASET.csv')\n",
        "#ENCODES ALL CATEGORICAL(TEXT) COL INTO NUMERIC FORMAT\n",
        "label_encoders = {}\n",
        "for column in df.columns:\n",
        "    if df[column].dtype == 'object':\n",
        "        le = LabelEncoder()\n",
        "        df[column] = le.fit_transform(df[column])\n",
        "        label_encoders[column] = le\n",
        "#SPLIT THE DATA INTO X AND Y\n",
        "X = df.drop('indication', axis=1)\n",
        "y = df['indication']\n",
        "#SPLIT DATA INTO TRAINING AND TESTING DATASETS\n",
        "X_train, X_test, y_train, y_test = train_test_split(X, y, test_size=0.2, random_state=42)\n",
        "#TRAINS A DECISION TREE MODEL\n",
        "dt_model = DecisionTreeClassifier()\n",
        "dt_model.fit(X_train, y_train)\n",
        "dt_preds = dt_model.predict(X_test)\n",
        "print(\"\\nDecision Tree Report:\\n\", classification_report(y_test, dt_preds))\n",
        "#TRAINS A RANDOM FOREST MODEL\n",
        "rf_model = RandomForestClassifier(n_estimators=100)\n",
        "rf_model.fit(X_train, y_train)\n",
        "rf_preds = rf_model.predict(X_test)\n",
        "print(\"\\nRandom Forest Report:\\n\", classification_report(y_test, rf_preds))\n",
        "#TRAINS A SUPPORT VECTOR MACHINE MODEL\n",
        "svm_model = SVC()\n",
        "svm_model.fit(X_train, y_train)\n",
        "svm_preds = svm_model.predict(X_test)\n",
        "print(\"\\nSVM Report:\\n\", classification_report(y_test, svm_preds))\n",
        "\n",
        "\n",
        "\n"
      ],
      "metadata": {
        "colab": {
          "base_uri": "https://localhost:8080/"
        },
        "id": "1H-hIGKyjXMh",
        "outputId": "5caa3858-aba7-47ab-a080-dc14edf88eb4"
      },
      "execution_count": 15,
      "outputs": [
        {
          "output_type": "stream",
          "name": "stdout",
          "text": [
            "\n",
            "Decision Tree Report:\n",
            "               precision    recall  f1-score   support\n",
            "\n",
            "           0       0.00      0.00      0.00         1\n",
            "           1       0.20      0.25      0.22         4\n",
            "           2       0.00      0.00      0.00         4\n",
            "           3       0.00      0.00      0.00         3\n",
            "           4       0.00      0.00      0.00         1\n",
            "           5       0.20      0.25      0.22         4\n",
            "           6       0.00      0.00      0.00         1\n",
            "           7       0.00      0.00      0.00         2\n",
            "\n",
            "    accuracy                           0.10        20\n",
            "   macro avg       0.05      0.06      0.06        20\n",
            "weighted avg       0.08      0.10      0.09        20\n",
            "\n",
            "\n",
            "Random Forest Report:\n",
            "               precision    recall  f1-score   support\n",
            "\n",
            "           0       0.00      0.00      0.00         1\n",
            "           1       0.17      0.25      0.20         4\n",
            "           2       0.00      0.00      0.00         4\n",
            "           3       0.00      0.00      0.00         3\n",
            "           4       0.00      0.00      0.00         1\n",
            "           5       0.33      0.50      0.40         4\n",
            "           6       0.00      0.00      0.00         1\n",
            "           7       0.00      0.00      0.00         2\n",
            "\n",
            "    accuracy                           0.15        20\n",
            "   macro avg       0.06      0.09      0.08        20\n",
            "weighted avg       0.10      0.15      0.12        20\n",
            "\n",
            "\n",
            "SVM Report:\n",
            "               precision    recall  f1-score   support\n",
            "\n",
            "           0       0.00      0.00      0.00         1\n",
            "           1       0.00      0.00      0.00         4\n",
            "           2       0.00      0.00      0.00         4\n",
            "           3       0.00      0.00      0.00         3\n",
            "           4       0.00      0.00      0.00         1\n",
            "           5       0.20      1.00      0.33         4\n",
            "           6       0.00      0.00      0.00         1\n",
            "           7       0.00      0.00      0.00         2\n",
            "\n",
            "    accuracy                           0.20        20\n",
            "   macro avg       0.03      0.12      0.04        20\n",
            "weighted avg       0.04      0.20      0.07        20\n",
            "\n"
          ]
        },
        {
          "output_type": "stream",
          "name": "stderr",
          "text": [
            "/usr/local/lib/python3.11/dist-packages/sklearn/metrics/_classification.py:1565: UndefinedMetricWarning: Precision is ill-defined and being set to 0.0 in labels with no predicted samples. Use `zero_division` parameter to control this behavior.\n",
            "  _warn_prf(average, modifier, f\"{metric.capitalize()} is\", len(result))\n",
            "/usr/local/lib/python3.11/dist-packages/sklearn/metrics/_classification.py:1565: UndefinedMetricWarning: Precision is ill-defined and being set to 0.0 in labels with no predicted samples. Use `zero_division` parameter to control this behavior.\n",
            "  _warn_prf(average, modifier, f\"{metric.capitalize()} is\", len(result))\n",
            "/usr/local/lib/python3.11/dist-packages/sklearn/metrics/_classification.py:1565: UndefinedMetricWarning: Precision is ill-defined and being set to 0.0 in labels with no predicted samples. Use `zero_division` parameter to control this behavior.\n",
            "  _warn_prf(average, modifier, f\"{metric.capitalize()} is\", len(result))\n",
            "/usr/local/lib/python3.11/dist-packages/sklearn/metrics/_classification.py:1565: UndefinedMetricWarning: Precision is ill-defined and being set to 0.0 in labels with no predicted samples. Use `zero_division` parameter to control this behavior.\n",
            "  _warn_prf(average, modifier, f\"{metric.capitalize()} is\", len(result))\n",
            "/usr/local/lib/python3.11/dist-packages/sklearn/metrics/_classification.py:1565: UndefinedMetricWarning: Precision is ill-defined and being set to 0.0 in labels with no predicted samples. Use `zero_division` parameter to control this behavior.\n",
            "  _warn_prf(average, modifier, f\"{metric.capitalize()} is\", len(result))\n",
            "/usr/local/lib/python3.11/dist-packages/sklearn/metrics/_classification.py:1565: UndefinedMetricWarning: Precision is ill-defined and being set to 0.0 in labels with no predicted samples. Use `zero_division` parameter to control this behavior.\n",
            "  _warn_prf(average, modifier, f\"{metric.capitalize()} is\", len(result))\n"
          ]
        }
      ]
    }
  ]
}